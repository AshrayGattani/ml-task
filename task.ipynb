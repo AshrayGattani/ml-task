{
  "nbformat": 4,
  "nbformat_minor": 0,
  "metadata": {
    "colab": {
      "provenance": [],
      "authorship_tag": "ABX9TyM51t0f0bWGGsyPU8uPdwsd",
      "include_colab_link": true
    },
    "kernelspec": {
      "name": "python3",
      "display_name": "Python 3"
    },
    "language_info": {
      "name": "python"
    }
  },
  "cells": [
    {
      "cell_type": "markdown",
      "metadata": {
        "id": "view-in-github",
        "colab_type": "text"
      },
      "source": [
        "<a href=\"https://colab.research.google.com/github/AshrayGattani/ml-task/blob/master/task.ipynb\" target=\"_parent\"><img src=\"https://colab.research.google.com/assets/colab-badge.svg\" alt=\"Open In Colab\"/></a>"
      ]
    },
    {
      "cell_type": "markdown",
      "source": [
        "####**TASK 1**"
      ],
      "metadata": {
        "id": "IOZpRUEoDlVb"
      }
    },
    {
      "cell_type": "code",
      "source": [
        "pip install requests beautifulsoup4"
      ],
      "metadata": {
        "colab": {
          "base_uri": "https://localhost:8080/"
        },
        "id": "Hh-VHdLOYsek",
        "outputId": "d367e95e-cbea-46ac-8f6f-a1d8b2c3f838"
      },
      "execution_count": null,
      "outputs": [
        {
          "output_type": "stream",
          "name": "stdout",
          "text": [
            "Requirement already satisfied: requests in /usr/local/lib/python3.10/dist-packages (2.27.1)\n",
            "Requirement already satisfied: beautifulsoup4 in /usr/local/lib/python3.10/dist-packages (4.11.2)\n",
            "Requirement already satisfied: urllib3<1.27,>=1.21.1 in /usr/local/lib/python3.10/dist-packages (from requests) (1.26.16)\n",
            "Requirement already satisfied: certifi>=2017.4.17 in /usr/local/lib/python3.10/dist-packages (from requests) (2023.5.7)\n",
            "Requirement already satisfied: charset-normalizer~=2.0.0 in /usr/local/lib/python3.10/dist-packages (from requests) (2.0.12)\n",
            "Requirement already satisfied: idna<4,>=2.5 in /usr/local/lib/python3.10/dist-packages (from requests) (3.4)\n",
            "Requirement already satisfied: soupsieve>1.2 in /usr/local/lib/python3.10/dist-packages (from beautifulsoup4) (2.4.1)\n"
          ]
        }
      ]
    },
    {
      "cell_type": "code",
      "source": [
        "import requests\n",
        "from bs4 import BeautifulSoup\n",
        "import pandas as pd\n",
        "\n",
        "def get_filmography(actor_name):\n",
        "    title_list = []\n",
        "    title_year = []\n",
        "    # Format the actor's name to be used in the Rotten Tomatoes URL\n",
        "    formatted_name = actor_name.lower().replace(\" \", \"_\")\n",
        "\n",
        "    # Construct the Rotten Tomatoes URL for the actor's filmography\n",
        "    url = f\"https://www.rottentomatoes.com/celebrity/{formatted_name}\"\n",
        "\n",
        "    # Send a GET request to the Rotten Tomatoes URL\n",
        "    response = requests.get(url)\n",
        "\n",
        "    # Parse the HTML content using BeautifulSoup\n",
        "    soup = BeautifulSoup(response.content, \"html.parser\")\n",
        "\n",
        "    # Find the section containing the filmography\n",
        "    film_title = soup.find_all(\"td\",class_=\"celebrity-filmography__title\")\n",
        "    film_year = soup.find_all(\"td\",class_=\"celebrity-filmography__year\")\n",
        "\n",
        "\n",
        "    for td in film_title:\n",
        "      td1 = td.text\n",
        "      td2 = td1.strip(\"\\n\")\n",
        "      title_list.append(td2)\n",
        "    for y in film_year:\n",
        "      y1 = y.text\n",
        "      y2 = y1.strip(\"\\n\")\n",
        "      title_year.append(y2)\n",
        "    data = {'Year': title_year, 'Title': title_list}\n",
        "\n",
        "    df = pd.DataFrame(data)\n",
        "    print(df)\n",
        "\n",
        "actor_name = input(\"Enter the name of the actor: \")\n",
        "\n",
        "# Call the function to get the filmography\n",
        "filmography = get_filmography(actor_name)\n"
      ],
      "metadata": {
        "colab": {
          "base_uri": "https://localhost:8080/"
        },
        "id": "qI8qshtR9bcH",
        "outputId": "b1405a5c-b1ba-454e-d901-b1289e057a6a"
      },
      "execution_count": null,
      "outputs": [
        {
          "output_type": "stream",
          "name": "stdout",
          "text": [
            "Enter the name of the actor: tom cruise\n",
            "                    Year                                           Title\n",
            "0                   2024  Mission: Impossible - Dead Reckoning, Part Two\n",
            "1                   2023  Mission: Impossible - Dead Reckoning, Part One\n",
            "2                   2022                               Top Gun: Maverick\n",
            "3                   2018                   Mission: Impossible - Fallout\n",
            "4                   2017                                   American Made\n",
            "..                   ...                                             ...\n",
            "61  2014-2015\\n2017-2018          The Tonight Show Starring Jimmy Fallon\n",
            "62       2004\\n2013-2015                 The Daily Show With Jon Stewart\n",
            "63             2011-2013                    Late Night With Jimmy Fallon\n",
            "64                  2010                                        Top Gear\n",
            "65                  2009                               The Jay Leno Show\n",
            "\n",
            "[66 rows x 2 columns]\n"
          ]
        }
      ]
    },
    {
      "cell_type": "markdown",
      "source": [
        "####**TASK 2**"
      ],
      "metadata": {
        "id": "WJ6HhpP6-Z48"
      }
    },
    {
      "cell_type": "code",
      "source": [
        "import pandas as pd\n",
        "from sklearn.ensemble import RandomForestClassifier\n",
        "import matplotlib.pyplot as plt\n",
        "# Load the Kepler Data\n",
        "kepler_data = pd.read_csv('/content/kepler_data.csv')\n",
        "\n",
        "# Preprocessing\n",
        "columns_to_remove = ['koi_teq_err1','koi_teq_err2']\n",
        "# Remove the specified columns from the DataFrame\n",
        "kepler_data = kepler_data.drop(columns=columns_to_remove)\n",
        "\n",
        "kepler_data.dropna(inplace=True)\n",
        "\n",
        "# Select relevant features and target variable\n",
        "features = ['koi_period', 'koi_duration', 'koi_depth', 'koi_prad', 'koi_teq', 'koi_steff', 'koi_srad','koi_impact','koi_insol']\n",
        "target = 'koi_disposition'\n",
        "\n",
        "X = kepler_data[features]\n",
        "y = kepler_data[target]\n",
        "\n",
        "# Train a Random Forest Classifier\n",
        "model = RandomForestClassifier(n_estimators=100, random_state=42)\n",
        "model.fit(X, y)\n",
        "\n",
        "# Calculate feature importances\n",
        "feature_importances = model.feature_importances_\n",
        "\n",
        "\n",
        "# Create a DataFrame with feature importances\n",
        "importance_df = pd.DataFrame({'Feature': features, 'Importance': feature_importances})\n",
        "\n",
        "# Sort the DataFrame by importance\n",
        "importance_df = importance_df.sort_values(by='Importance', ascending=True)\n",
        "\n",
        "# Plot the feature importances\n",
        "plt.figure(figsize=(8, 6))\n",
        "plt.barh(importance_df['Feature'], importance_df['Importance'])\n",
        "plt.xlabel('Feature Importance')\n",
        "plt.ylabel('Features')\n",
        "plt.title('Feature Importance Plot')\n",
        "plt.show()\n",
        "\n",
        "# Create a dictionary of feature importances\n",
        "feature_importance_dict = dict(zip(features, feature_importances))\n",
        "\n",
        "# Sort the feature importances in descending order\n",
        "sorted_features = sorted(feature_importance_dict.items(), key=lambda x: x[1], reverse=True)\n",
        "\n",
        "# Select the top 3 most important features\n",
        "top_three_features = [feature for feature, importance in sorted_features[:3]]\n",
        "\n",
        "print(\"Top 3 most correlated features:\")\n",
        "for feature in top_three_features:\n",
        "    print(feature)\n"
      ],
      "metadata": {
        "colab": {
          "base_uri": "https://localhost:8080/",
          "height": 637
        },
        "id": "qoZwq_aHzYZ1",
        "outputId": "6180caf7-91fa-4469-935f-2df2a4a78c3b"
      },
      "execution_count": 16,
      "outputs": [
        {
          "output_type": "display_data",
          "data": {
            "text/plain": [
              "<Figure size 800x600 with 1 Axes>"
            ],
            "image/png": "[encoded data removed]"
          },
          "metadata": {}
        },
        {
          "output_type": "stream",
          "name": "stdout",
          "text": [
            "Top 3 most correlated features:\n",
            "koi_depth\n",
            "koi_prad\n",
            "koi_duration\n"
          ]
        }
      ]
    },
    {
      "cell_type": "code",
      "source": [
        "import pandas as pd\n",
        "from sklearn.model_selection import train_test_split\n",
        "from sklearn.preprocessing import LabelEncoder\n",
        "from sklearn.ensemble import RandomForestClassifier\n",
        "from sklearn.metrics import accuracy_score\n",
        "\n",
        "\n",
        "# Encode the target variable\n",
        "label_encoder = LabelEncoder()\n",
        "kepler_data['koi_disposition_encoded'] = label_encoder.fit_transform(kepler_data['koi_disposition'])\n",
        "\n",
        "# Select relevant features\n",
        "features = ['koi_prad', 'koi_depth','koi_duration']\n",
        "\n",
        "X = kepler_data[features]\n",
        "y = kepler_data['koi_disposition_encoded']\n",
        "\n",
        "# Split the dataset into training and testing sets\n",
        "X_train, X_test, y_train, y_test = train_test_split(X, y, test_size=0.2, random_state=42)\n",
        "\n",
        "# Model training\n",
        "model = RandomForestClassifier(n_estimators=100, random_state=42)\n",
        "model.fit(X_train, y_train)\n",
        "\n",
        "# Model evaluation\n",
        "y_pred = model.predict(X_test)\n",
        "accuracy = accuracy_score(y_test, y_pred)\n",
        "print('Accuracy:', accuracy)\n",
        "\n",
        "# Example prediction for a new data point\n",
        "new_data_point = pd.DataFrame([[14.6, 10829, 0.0341]], columns=features)\n",
        "predicted_class = label_encoder.inverse_transform(model.predict(new_data_point))\n",
        "print('Predicted class:', predicted_class)\n"
      ],
      "metadata": {
        "colab": {
          "base_uri": "https://localhost:8080/"
        },
        "id": "qXnKBaY50qPq",
        "outputId": "685ad980-4ee4-4c3e-9bae-8da439e8c2d3"
      },
      "execution_count": 17,
      "outputs": [
        {
          "output_type": "stream",
          "name": "stdout",
          "text": [
            "Accuracy: 0.9978586723768736\n",
            "Predicted class: ['CONFIRMED']\n"
          ]
        }
      ]
    }
  ]
}